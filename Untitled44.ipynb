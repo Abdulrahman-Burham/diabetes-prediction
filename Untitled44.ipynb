{
  "cells": [
    {
      "cell_type": "code",
      "execution_count": 1,
      "metadata": {
        "id": "kjATKTDCh0xF"
      },
      "outputs": [],
      "source": [
        "import pandas as pd"
      ]
    },
    {
      "cell_type": "code",
      "execution_count": 2,
      "metadata": {
        "id": "q8XhL4ybh-E-"
      },
      "outputs": [],
      "source": [
        "df=pd.read_csv(\"D:\\\\learn\\\\6\\\\project\\\\diabetes_types_dataset.csv\")"
      ]
    },
    {
      "cell_type": "code",
      "execution_count": 3,
      "metadata": {
        "colab": {
          "base_uri": "https://localhost:8080/",
          "height": 443
        },
        "id": "_n35TGd_iDe1",
        "outputId": "b6128584-fbbb-495a-cf10-174a803dafa0"
      },
      "outputs": [
        {
          "data": {
            "text/html": [
              "<div>\n",
              "<style scoped>\n",
              "    .dataframe tbody tr th:only-of-type {\n",
              "        vertical-align: middle;\n",
              "    }\n",
              "\n",
              "    .dataframe tbody tr th {\n",
              "        vertical-align: top;\n",
              "    }\n",
              "\n",
              "    .dataframe thead th {\n",
              "        text-align: right;\n",
              "    }\n",
              "</style>\n",
              "<table border=\"1\" class=\"dataframe\">\n",
              "  <thead>\n",
              "    <tr style=\"text-align: right;\">\n",
              "      <th></th>\n",
              "      <th>Age</th>\n",
              "      <th>Gender</th>\n",
              "      <th>BMI</th>\n",
              "      <th>Glucose</th>\n",
              "      <th>Insulin</th>\n",
              "      <th>BloodPressure</th>\n",
              "      <th>DiabetesPedigree</th>\n",
              "      <th>ActivityLevel</th>\n",
              "      <th>Smoker</th>\n",
              "      <th>FamilyHistory</th>\n",
              "      <th>HbA1c</th>\n",
              "      <th>DiabetesType</th>\n",
              "    </tr>\n",
              "  </thead>\n",
              "  <tbody>\n",
              "    <tr>\n",
              "      <th>0</th>\n",
              "      <td>61</td>\n",
              "      <td>Male</td>\n",
              "      <td>19.2</td>\n",
              "      <td>172</td>\n",
              "      <td>51.3</td>\n",
              "      <td>100.0</td>\n",
              "      <td>0.67</td>\n",
              "      <td>High</td>\n",
              "      <td>No</td>\n",
              "      <td>No</td>\n",
              "      <td>7.8</td>\n",
              "      <td>Type 2</td>\n",
              "    </tr>\n",
              "    <tr>\n",
              "      <th>1</th>\n",
              "      <td>24</td>\n",
              "      <td>Female</td>\n",
              "      <td>32.3</td>\n",
              "      <td>80</td>\n",
              "      <td>69.0</td>\n",
              "      <td>77.0</td>\n",
              "      <td>0.26</td>\n",
              "      <td>High</td>\n",
              "      <td>Yes</td>\n",
              "      <td>Yes</td>\n",
              "      <td>6.9</td>\n",
              "      <td>Type 2</td>\n",
              "    </tr>\n",
              "    <tr>\n",
              "      <th>2</th>\n",
              "      <td>81</td>\n",
              "      <td>Male</td>\n",
              "      <td>22.9</td>\n",
              "      <td>189</td>\n",
              "      <td>94.4</td>\n",
              "      <td>74.0</td>\n",
              "      <td>0.38</td>\n",
              "      <td>High</td>\n",
              "      <td>Yes</td>\n",
              "      <td>No</td>\n",
              "      <td>6.1</td>\n",
              "      <td>Type 2</td>\n",
              "    </tr>\n",
              "    <tr>\n",
              "      <th>3</th>\n",
              "      <td>70</td>\n",
              "      <td>Female</td>\n",
              "      <td>34.9</td>\n",
              "      <td>177</td>\n",
              "      <td>73.8</td>\n",
              "      <td>110.0</td>\n",
              "      <td>0.41</td>\n",
              "      <td>High</td>\n",
              "      <td>Yes</td>\n",
              "      <td>Yes</td>\n",
              "      <td>4.0</td>\n",
              "      <td>Type 2</td>\n",
              "    </tr>\n",
              "    <tr>\n",
              "      <th>4</th>\n",
              "      <td>30</td>\n",
              "      <td>Female</td>\n",
              "      <td>38.5</td>\n",
              "      <td>146</td>\n",
              "      <td>122.4</td>\n",
              "      <td>92.0</td>\n",
              "      <td>0.95</td>\n",
              "      <td>High</td>\n",
              "      <td>No</td>\n",
              "      <td>Yes</td>\n",
              "      <td>7.2</td>\n",
              "      <td>Type 2</td>\n",
              "    </tr>\n",
              "    <tr>\n",
              "      <th>...</th>\n",
              "      <td>...</td>\n",
              "      <td>...</td>\n",
              "      <td>...</td>\n",
              "      <td>...</td>\n",
              "      <td>...</td>\n",
              "      <td>...</td>\n",
              "      <td>...</td>\n",
              "      <td>...</td>\n",
              "      <td>...</td>\n",
              "      <td>...</td>\n",
              "      <td>...</td>\n",
              "      <td>...</td>\n",
              "    </tr>\n",
              "    <tr>\n",
              "      <th>69995</th>\n",
              "      <td>86</td>\n",
              "      <td>Female</td>\n",
              "      <td>31.8</td>\n",
              "      <td>137</td>\n",
              "      <td>83.8</td>\n",
              "      <td>74.0</td>\n",
              "      <td>0.68</td>\n",
              "      <td>High</td>\n",
              "      <td>No</td>\n",
              "      <td>Yes</td>\n",
              "      <td>8.7</td>\n",
              "      <td>Type 2</td>\n",
              "    </tr>\n",
              "    <tr>\n",
              "      <th>69996</th>\n",
              "      <td>14</td>\n",
              "      <td>Female</td>\n",
              "      <td>38.1</td>\n",
              "      <td>122</td>\n",
              "      <td>-1.8</td>\n",
              "      <td>114.0</td>\n",
              "      <td>0.93</td>\n",
              "      <td>High</td>\n",
              "      <td>No</td>\n",
              "      <td>Yes</td>\n",
              "      <td>5.2</td>\n",
              "      <td>Type 1</td>\n",
              "    </tr>\n",
              "    <tr>\n",
              "      <th>69997</th>\n",
              "      <td>28</td>\n",
              "      <td>Male</td>\n",
              "      <td>31.9</td>\n",
              "      <td>172</td>\n",
              "      <td>20.8</td>\n",
              "      <td>64.0</td>\n",
              "      <td>0.31</td>\n",
              "      <td>Low</td>\n",
              "      <td>No</td>\n",
              "      <td>Yes</td>\n",
              "      <td>10.7</td>\n",
              "      <td>Type 1</td>\n",
              "    </tr>\n",
              "    <tr>\n",
              "      <th>69998</th>\n",
              "      <td>67</td>\n",
              "      <td>Female</td>\n",
              "      <td>23.6</td>\n",
              "      <td>195</td>\n",
              "      <td>55.0</td>\n",
              "      <td>110.0</td>\n",
              "      <td>0.34</td>\n",
              "      <td>High</td>\n",
              "      <td>No</td>\n",
              "      <td>No</td>\n",
              "      <td>6.8</td>\n",
              "      <td>Type 2</td>\n",
              "    </tr>\n",
              "    <tr>\n",
              "      <th>69999</th>\n",
              "      <td>66</td>\n",
              "      <td>Female</td>\n",
              "      <td>32.2</td>\n",
              "      <td>158</td>\n",
              "      <td>101.2</td>\n",
              "      <td>83.0</td>\n",
              "      <td>0.48</td>\n",
              "      <td>Low</td>\n",
              "      <td>Yes</td>\n",
              "      <td>No</td>\n",
              "      <td>10.6</td>\n",
              "      <td>Type 2</td>\n",
              "    </tr>\n",
              "  </tbody>\n",
              "</table>\n",
              "<p>70000 rows × 12 columns</p>\n",
              "</div>"
            ],
            "text/plain": [
              "       Age  Gender   BMI  Glucose  Insulin  BloodPressure  DiabetesPedigree  \\\n",
              "0       61    Male  19.2      172     51.3          100.0              0.67   \n",
              "1       24  Female  32.3       80     69.0           77.0              0.26   \n",
              "2       81    Male  22.9      189     94.4           74.0              0.38   \n",
              "3       70  Female  34.9      177     73.8          110.0              0.41   \n",
              "4       30  Female  38.5      146    122.4           92.0              0.95   \n",
              "...    ...     ...   ...      ...      ...            ...               ...   \n",
              "69995   86  Female  31.8      137     83.8           74.0              0.68   \n",
              "69996   14  Female  38.1      122     -1.8          114.0              0.93   \n",
              "69997   28    Male  31.9      172     20.8           64.0              0.31   \n",
              "69998   67  Female  23.6      195     55.0          110.0              0.34   \n",
              "69999   66  Female  32.2      158    101.2           83.0              0.48   \n",
              "\n",
              "      ActivityLevel Smoker FamilyHistory  HbA1c DiabetesType  \n",
              "0              High     No            No    7.8       Type 2  \n",
              "1              High    Yes           Yes    6.9       Type 2  \n",
              "2              High    Yes            No    6.1       Type 2  \n",
              "3              High    Yes           Yes    4.0       Type 2  \n",
              "4              High     No           Yes    7.2       Type 2  \n",
              "...             ...    ...           ...    ...          ...  \n",
              "69995          High     No           Yes    8.7       Type 2  \n",
              "69996          High     No           Yes    5.2       Type 1  \n",
              "69997           Low     No           Yes   10.7       Type 1  \n",
              "69998          High     No            No    6.8       Type 2  \n",
              "69999           Low    Yes            No   10.6       Type 2  \n",
              "\n",
              "[70000 rows x 12 columns]"
            ]
          },
          "execution_count": 3,
          "metadata": {},
          "output_type": "execute_result"
        }
      ],
      "source": [
        "df"
      ]
    },
    {
      "cell_type": "code",
      "execution_count": 4,
      "metadata": {
        "colab": {
          "base_uri": "https://localhost:8080/",
          "height": 300
        },
        "id": "BzZAwBHdrzKn",
        "outputId": "f8783545-3c3c-43c8-9c0f-9ef0f6c55d3b"
      },
      "outputs": [
        {
          "data": {
            "text/html": [
              "<div>\n",
              "<style scoped>\n",
              "    .dataframe tbody tr th:only-of-type {\n",
              "        vertical-align: middle;\n",
              "    }\n",
              "\n",
              "    .dataframe tbody tr th {\n",
              "        vertical-align: top;\n",
              "    }\n",
              "\n",
              "    .dataframe thead th {\n",
              "        text-align: right;\n",
              "    }\n",
              "</style>\n",
              "<table border=\"1\" class=\"dataframe\">\n",
              "  <thead>\n",
              "    <tr style=\"text-align: right;\">\n",
              "      <th></th>\n",
              "      <th>Age</th>\n",
              "      <th>BMI</th>\n",
              "      <th>Glucose</th>\n",
              "      <th>Insulin</th>\n",
              "      <th>BloodPressure</th>\n",
              "      <th>DiabetesPedigree</th>\n",
              "      <th>HbA1c</th>\n",
              "    </tr>\n",
              "  </thead>\n",
              "  <tbody>\n",
              "    <tr>\n",
              "      <th>count</th>\n",
              "      <td>70000.000000</td>\n",
              "      <td>66500.000000</td>\n",
              "      <td>70000.000000</td>\n",
              "      <td>66500.000000</td>\n",
              "      <td>66500.000000</td>\n",
              "      <td>70000.000000</td>\n",
              "      <td>66500.000000</td>\n",
              "    </tr>\n",
              "    <tr>\n",
              "      <th>mean</th>\n",
              "      <td>49.343800</td>\n",
              "      <td>29.992642</td>\n",
              "      <td>137.382686</td>\n",
              "      <td>79.986057</td>\n",
              "      <td>89.676737</td>\n",
              "      <td>0.500587</td>\n",
              "      <td>6.490902</td>\n",
              "    </tr>\n",
              "    <tr>\n",
              "      <th>std</th>\n",
              "      <td>23.088371</td>\n",
              "      <td>6.015148</td>\n",
              "      <td>47.922075</td>\n",
              "      <td>29.993608</td>\n",
              "      <td>17.302341</td>\n",
              "      <td>0.299247</td>\n",
              "      <td>1.502203</td>\n",
              "    </tr>\n",
              "    <tr>\n",
              "      <th>min</th>\n",
              "      <td>10.000000</td>\n",
              "      <td>7.300000</td>\n",
              "      <td>70.000000</td>\n",
              "      <td>-52.400000</td>\n",
              "      <td>60.000000</td>\n",
              "      <td>-0.840000</td>\n",
              "      <td>0.800000</td>\n",
              "    </tr>\n",
              "    <tr>\n",
              "      <th>25%</th>\n",
              "      <td>29.000000</td>\n",
              "      <td>25.900000</td>\n",
              "      <td>103.000000</td>\n",
              "      <td>59.800000</td>\n",
              "      <td>75.000000</td>\n",
              "      <td>0.300000</td>\n",
              "      <td>5.500000</td>\n",
              "    </tr>\n",
              "    <tr>\n",
              "      <th>50%</th>\n",
              "      <td>49.000000</td>\n",
              "      <td>30.000000</td>\n",
              "      <td>135.000000</td>\n",
              "      <td>80.100000</td>\n",
              "      <td>90.000000</td>\n",
              "      <td>0.500000</td>\n",
              "      <td>6.500000</td>\n",
              "    </tr>\n",
              "    <tr>\n",
              "      <th>75%</th>\n",
              "      <td>69.000000</td>\n",
              "      <td>34.000000</td>\n",
              "      <td>168.000000</td>\n",
              "      <td>100.200000</td>\n",
              "      <td>105.000000</td>\n",
              "      <td>0.700000</td>\n",
              "      <td>7.500000</td>\n",
              "    </tr>\n",
              "    <tr>\n",
              "      <th>max</th>\n",
              "      <td>89.000000</td>\n",
              "      <td>56.100000</td>\n",
              "      <td>597.000000</td>\n",
              "      <td>193.500000</td>\n",
              "      <td>119.000000</td>\n",
              "      <td>1.760000</td>\n",
              "      <td>12.800000</td>\n",
              "    </tr>\n",
              "  </tbody>\n",
              "</table>\n",
              "</div>"
            ],
            "text/plain": [
              "                Age           BMI       Glucose       Insulin  BloodPressure  \\\n",
              "count  70000.000000  66500.000000  70000.000000  66500.000000   66500.000000   \n",
              "mean      49.343800     29.992642    137.382686     79.986057      89.676737   \n",
              "std       23.088371      6.015148     47.922075     29.993608      17.302341   \n",
              "min       10.000000      7.300000     70.000000    -52.400000      60.000000   \n",
              "25%       29.000000     25.900000    103.000000     59.800000      75.000000   \n",
              "50%       49.000000     30.000000    135.000000     80.100000      90.000000   \n",
              "75%       69.000000     34.000000    168.000000    100.200000     105.000000   \n",
              "max       89.000000     56.100000    597.000000    193.500000     119.000000   \n",
              "\n",
              "       DiabetesPedigree         HbA1c  \n",
              "count      70000.000000  66500.000000  \n",
              "mean           0.500587      6.490902  \n",
              "std            0.299247      1.502203  \n",
              "min           -0.840000      0.800000  \n",
              "25%            0.300000      5.500000  \n",
              "50%            0.500000      6.500000  \n",
              "75%            0.700000      7.500000  \n",
              "max            1.760000     12.800000  "
            ]
          },
          "execution_count": 4,
          "metadata": {},
          "output_type": "execute_result"
        }
      ],
      "source": [
        "df.describe()"
      ]
    },
    {
      "cell_type": "code",
      "execution_count": 5,
      "metadata": {
        "colab": {
          "base_uri": "https://localhost:8080/",
          "height": 460
        },
        "id": "TcpEO1S2qmaF",
        "outputId": "2c0af403-2ee0-4d00-eedd-42d5389e385e"
      },
      "outputs": [
        {
          "data": {
            "text/plain": [
              "Age                    0\n",
              "Gender                 0\n",
              "BMI                 3500\n",
              "Glucose                0\n",
              "Insulin             3500\n",
              "BloodPressure       3500\n",
              "DiabetesPedigree       0\n",
              "ActivityLevel          0\n",
              "Smoker                 0\n",
              "FamilyHistory          0\n",
              "HbA1c               3500\n",
              "DiabetesType           0\n",
              "dtype: int64"
            ]
          },
          "execution_count": 5,
          "metadata": {},
          "output_type": "execute_result"
        }
      ],
      "source": [
        "df.isnull().sum()"
      ]
    },
    {
      "cell_type": "code",
      "execution_count": 6,
      "metadata": {
        "colab": {
          "base_uri": "https://localhost:8080/",
          "height": 458
        },
        "id": "hgdldO3uqr8D",
        "outputId": "5ea17cab-d1e7-4c13-eba8-6485b750f946"
      },
      "outputs": [
        {
          "data": {
            "text/plain": [
              "0        19.2\n",
              "1        32.3\n",
              "2        22.9\n",
              "3        34.9\n",
              "4        38.5\n",
              "         ... \n",
              "69995    31.8\n",
              "69996    38.1\n",
              "69997    31.9\n",
              "69998    23.6\n",
              "69999    32.2\n",
              "Name: BMI, Length: 70000, dtype: float64"
            ]
          },
          "execution_count": 6,
          "metadata": {},
          "output_type": "execute_result"
        }
      ],
      "source": [
        "df['BMI']"
      ]
    },
    {
      "cell_type": "code",
      "execution_count": 7,
      "metadata": {
        "colab": {
          "base_uri": "https://localhost:8080/",
          "height": 489
        },
        "id": "yNqHvYfTq1Jb",
        "outputId": "e38754eb-ca5a-4fe5-ccf5-74dc527241df"
      },
      "outputs": [
        {
          "data": {
            "text/plain": [
              " 89.0     112\n",
              " 83.5     110\n",
              " 94.5     110\n",
              " 90.0     105\n",
              " 80.4     104\n",
              "         ... \n",
              " 7.1        1\n",
              "-7.5        1\n",
              " 177.4      1\n",
              " 174.5      1\n",
              "-12.2       1\n",
              "Name: Insulin, Length: 1896, dtype: int64"
            ]
          },
          "execution_count": 7,
          "metadata": {},
          "output_type": "execute_result"
        }
      ],
      "source": [
        "df['Insulin'].value_counts()"
      ]
    },
    {
      "cell_type": "code",
      "execution_count": 8,
      "metadata": {
        "colab": {
          "base_uri": "https://localhost:8080/",
          "height": 1000
        },
        "id": "MlriZJP_q6hl",
        "outputId": "4cbc076e-f7d0-447a-d0b1-8bb798f9aa41"
      },
      "outputs": [
        {
          "data": {
            "text/plain": [
              "107.0    1204\n",
              "106.0    1183\n",
              "113.0    1176\n",
              "74.0     1173\n",
              "78.0     1167\n",
              "104.0    1167\n",
              "101.0    1161\n",
              "95.0     1160\n",
              "75.0     1159\n",
              "81.0     1157\n",
              "110.0    1154\n",
              "111.0    1141\n",
              "66.0     1135\n",
              "96.0     1132\n",
              "94.0     1131\n",
              "93.0     1127\n",
              "84.0     1125\n",
              "61.0     1125\n",
              "85.0     1122\n",
              "88.0     1121\n",
              "109.0    1121\n",
              "114.0    1121\n",
              "108.0    1120\n",
              "115.0    1115\n",
              "119.0    1115\n",
              "83.0     1114\n",
              "100.0    1113\n",
              "69.0     1112\n",
              "71.0     1111\n",
              "112.0    1106\n",
              "62.0     1106\n",
              "92.0     1104\n",
              "90.0     1102\n",
              "72.0     1099\n",
              "105.0    1099\n",
              "118.0    1098\n",
              "80.0     1098\n",
              "97.0     1094\n",
              "116.0    1091\n",
              "73.0     1091\n",
              "76.0     1091\n",
              "60.0     1091\n",
              "70.0     1090\n",
              "87.0     1085\n",
              "117.0    1085\n",
              "98.0     1083\n",
              "89.0     1079\n",
              "99.0     1076\n",
              "65.0     1069\n",
              "67.0     1067\n",
              "103.0    1067\n",
              "86.0     1065\n",
              "68.0     1061\n",
              "82.0     1060\n",
              "102.0    1057\n",
              "79.0     1054\n",
              "91.0     1053\n",
              "64.0     1043\n",
              "63.0     1043\n",
              "77.0     1031\n",
              "Name: BloodPressure, dtype: int64"
            ]
          },
          "execution_count": 8,
          "metadata": {},
          "output_type": "execute_result"
        }
      ],
      "source": [
        "df['BloodPressure'].value_counts()"
      ]
    },
    {
      "cell_type": "code",
      "execution_count": 9,
      "metadata": {
        "colab": {
          "base_uri": "https://localhost:8080/",
          "height": 489
        },
        "id": "amOVITH6q9Ob",
        "outputId": "bb25d0bd-e392-45a3-d208-4d02af8c83dd"
      },
      "outputs": [
        {
          "data": {
            "text/plain": [
              "6.7     1786\n",
              "6.4     1779\n",
              "6.8     1769\n",
              "6.9     1760\n",
              "6.2     1756\n",
              "        ... \n",
              "12.5       2\n",
              "12.1       2\n",
              "0.8        1\n",
              "11.9       1\n",
              "12.8       1\n",
              "Name: HbA1c, Length: 117, dtype: int64"
            ]
          },
          "execution_count": 9,
          "metadata": {},
          "output_type": "execute_result"
        }
      ],
      "source": [
        "df['HbA1c'].value_counts()"
      ]
    },
    {
      "cell_type": "code",
      "execution_count": 10,
      "metadata": {
        "id": "Xw4no2VTrAG6"
      },
      "outputs": [],
      "source": [
        "column_null=['BMI','BloodPressure','Insulin','HbA1c']"
      ]
    },
    {
      "cell_type": "code",
      "execution_count": 11,
      "metadata": {
        "id": "Z1r_SP63rgct"
      },
      "outputs": [],
      "source": [
        "column_null = ['BMI', 'BloodPressure', 'Insulin', 'HbA1c']\n",
        "for col in column_null:\n",
        "    df[col] = df[col].fillna(df[col].mean())\n"
      ]
    },
    {
      "cell_type": "code",
      "execution_count": 12,
      "metadata": {
        "colab": {
          "base_uri": "https://localhost:8080/",
          "height": 460
        },
        "id": "oa8-p17ervQT",
        "outputId": "f280fea8-8b9f-4748-ff81-d13f2a378387"
      },
      "outputs": [
        {
          "data": {
            "text/plain": [
              "Age                 0\n",
              "Gender              0\n",
              "BMI                 0\n",
              "Glucose             0\n",
              "Insulin             0\n",
              "BloodPressure       0\n",
              "DiabetesPedigree    0\n",
              "ActivityLevel       0\n",
              "Smoker              0\n",
              "FamilyHistory       0\n",
              "HbA1c               0\n",
              "DiabetesType        0\n",
              "dtype: int64"
            ]
          },
          "execution_count": 12,
          "metadata": {},
          "output_type": "execute_result"
        }
      ],
      "source": [
        "df.isnull().sum()"
      ]
    },
    {
      "cell_type": "code",
      "execution_count": 13,
      "metadata": {
        "colab": {
          "base_uri": "https://localhost:8080/",
          "height": 300
        },
        "id": "fPvSFNydtdyW",
        "outputId": "68184589-490a-4c31-aaa0-371a7c976f26"
      },
      "outputs": [
        {
          "data": {
            "text/html": [
              "<div>\n",
              "<style scoped>\n",
              "    .dataframe tbody tr th:only-of-type {\n",
              "        vertical-align: middle;\n",
              "    }\n",
              "\n",
              "    .dataframe tbody tr th {\n",
              "        vertical-align: top;\n",
              "    }\n",
              "\n",
              "    .dataframe thead th {\n",
              "        text-align: right;\n",
              "    }\n",
              "</style>\n",
              "<table border=\"1\" class=\"dataframe\">\n",
              "  <thead>\n",
              "    <tr style=\"text-align: right;\">\n",
              "      <th></th>\n",
              "      <th>Age</th>\n",
              "      <th>BMI</th>\n",
              "      <th>Glucose</th>\n",
              "      <th>Insulin</th>\n",
              "      <th>BloodPressure</th>\n",
              "      <th>DiabetesPedigree</th>\n",
              "      <th>HbA1c</th>\n",
              "    </tr>\n",
              "  </thead>\n",
              "  <tbody>\n",
              "    <tr>\n",
              "      <th>count</th>\n",
              "      <td>70000.000000</td>\n",
              "      <td>70000.000000</td>\n",
              "      <td>70000.000000</td>\n",
              "      <td>70000.000000</td>\n",
              "      <td>70000.000000</td>\n",
              "      <td>70000.000000</td>\n",
              "      <td>70000.000000</td>\n",
              "    </tr>\n",
              "    <tr>\n",
              "      <th>mean</th>\n",
              "      <td>49.343800</td>\n",
              "      <td>29.992642</td>\n",
              "      <td>137.382686</td>\n",
              "      <td>79.986057</td>\n",
              "      <td>89.676737</td>\n",
              "      <td>0.500587</td>\n",
              "      <td>6.490902</td>\n",
              "    </tr>\n",
              "    <tr>\n",
              "      <th>std</th>\n",
              "      <td>23.088371</td>\n",
              "      <td>5.862839</td>\n",
              "      <td>47.922075</td>\n",
              "      <td>29.234142</td>\n",
              "      <td>16.864229</td>\n",
              "      <td>0.299247</td>\n",
              "      <td>1.464166</td>\n",
              "    </tr>\n",
              "    <tr>\n",
              "      <th>min</th>\n",
              "      <td>10.000000</td>\n",
              "      <td>7.300000</td>\n",
              "      <td>70.000000</td>\n",
              "      <td>-52.400000</td>\n",
              "      <td>60.000000</td>\n",
              "      <td>-0.840000</td>\n",
              "      <td>0.800000</td>\n",
              "    </tr>\n",
              "    <tr>\n",
              "      <th>25%</th>\n",
              "      <td>29.000000</td>\n",
              "      <td>26.200000</td>\n",
              "      <td>103.000000</td>\n",
              "      <td>60.900000</td>\n",
              "      <td>75.000000</td>\n",
              "      <td>0.300000</td>\n",
              "      <td>5.500000</td>\n",
              "    </tr>\n",
              "    <tr>\n",
              "      <th>50%</th>\n",
              "      <td>49.000000</td>\n",
              "      <td>29.992642</td>\n",
              "      <td>135.000000</td>\n",
              "      <td>79.986057</td>\n",
              "      <td>89.676737</td>\n",
              "      <td>0.500000</td>\n",
              "      <td>6.490902</td>\n",
              "    </tr>\n",
              "    <tr>\n",
              "      <th>75%</th>\n",
              "      <td>69.000000</td>\n",
              "      <td>33.800000</td>\n",
              "      <td>168.000000</td>\n",
              "      <td>99.000000</td>\n",
              "      <td>104.000000</td>\n",
              "      <td>0.700000</td>\n",
              "      <td>7.400000</td>\n",
              "    </tr>\n",
              "    <tr>\n",
              "      <th>max</th>\n",
              "      <td>89.000000</td>\n",
              "      <td>56.100000</td>\n",
              "      <td>597.000000</td>\n",
              "      <td>193.500000</td>\n",
              "      <td>119.000000</td>\n",
              "      <td>1.760000</td>\n",
              "      <td>12.800000</td>\n",
              "    </tr>\n",
              "  </tbody>\n",
              "</table>\n",
              "</div>"
            ],
            "text/plain": [
              "                Age           BMI       Glucose       Insulin  BloodPressure  \\\n",
              "count  70000.000000  70000.000000  70000.000000  70000.000000   70000.000000   \n",
              "mean      49.343800     29.992642    137.382686     79.986057      89.676737   \n",
              "std       23.088371      5.862839     47.922075     29.234142      16.864229   \n",
              "min       10.000000      7.300000     70.000000    -52.400000      60.000000   \n",
              "25%       29.000000     26.200000    103.000000     60.900000      75.000000   \n",
              "50%       49.000000     29.992642    135.000000     79.986057      89.676737   \n",
              "75%       69.000000     33.800000    168.000000     99.000000     104.000000   \n",
              "max       89.000000     56.100000    597.000000    193.500000     119.000000   \n",
              "\n",
              "       DiabetesPedigree         HbA1c  \n",
              "count      70000.000000  70000.000000  \n",
              "mean           0.500587      6.490902  \n",
              "std            0.299247      1.464166  \n",
              "min           -0.840000      0.800000  \n",
              "25%            0.300000      5.500000  \n",
              "50%            0.500000      6.490902  \n",
              "75%            0.700000      7.400000  \n",
              "max            1.760000     12.800000  "
            ]
          },
          "execution_count": 13,
          "metadata": {},
          "output_type": "execute_result"
        }
      ],
      "source": [
        "df.describe()"
      ]
    },
    {
      "cell_type": "code",
      "execution_count": 14,
      "metadata": {
        "colab": {
          "base_uri": "https://localhost:8080/"
        },
        "id": "U_sjmEgCtccS",
        "outputId": "154aa7aa-eff9-48c6-ae4c-666a543b5c95"
      },
      "outputs": [
        {
          "name": "stdout",
          "output_type": "stream",
          "text": [
            "0     51.3\n",
            "1     69.0\n",
            "2     94.4\n",
            "3     73.8\n",
            "4    122.4\n",
            "Name: Insulin, dtype: float64\n"
          ]
        }
      ],
      "source": [
        "df['Insulin'] = df['Insulin'].apply(lambda x: 0 if x < 0 else x)\n",
        "\n",
        "print(df['Insulin'].head())\n"
      ]
    },
    {
      "cell_type": "code",
      "execution_count": 15,
      "metadata": {
        "colab": {
          "base_uri": "https://localhost:8080/"
        },
        "id": "NbE5ti7UtLvT",
        "outputId": "599910d6-4918-4887-b729-56b2ee7afa61"
      },
      "outputs": [
        {
          "name": "stdout",
          "output_type": "stream",
          "text": [
            "0    0.67\n",
            "1    0.26\n",
            "2    0.38\n",
            "3    0.41\n",
            "4    0.95\n",
            "Name: DiabetesPedigree, dtype: float64\n"
          ]
        }
      ],
      "source": [
        "df['DiabetesPedigree'] = df['DiabetesPedigree'].apply(lambda x: 0 if x < 0 else x)\n",
        "\n",
        "print(df['DiabetesPedigree'].head())"
      ]
    },
    {
      "cell_type": "code",
      "execution_count": 16,
      "metadata": {
        "colab": {
          "base_uri": "https://localhost:8080/",
          "height": 209
        },
        "id": "8IPnnbSot0R9",
        "outputId": "5d8b076b-3afe-4e4c-f66d-dcf14a1f4ce3"
      },
      "outputs": [
        {
          "data": {
            "text/plain": [
              "Type 2         65684\n",
              "Type 1          2523\n",
              "Gestational     1793\n",
              "Name: DiabetesType, dtype: int64"
            ]
          },
          "execution_count": 16,
          "metadata": {},
          "output_type": "execute_result"
        }
      ],
      "source": [
        "df['DiabetesType'].value_counts()"
      ]
    },
    {
      "cell_type": "code",
      "execution_count": 17,
      "metadata": {
        "colab": {
          "base_uri": "https://localhost:8080/",
          "height": 443
        },
        "id": "D9wCtA_Mu2Vx",
        "outputId": "88e72fe4-9a2d-4cb4-b8a1-bd9840623f4e"
      },
      "outputs": [
        {
          "data": {
            "text/html": [
              "<div>\n",
              "<style scoped>\n",
              "    .dataframe tbody tr th:only-of-type {\n",
              "        vertical-align: middle;\n",
              "    }\n",
              "\n",
              "    .dataframe tbody tr th {\n",
              "        vertical-align: top;\n",
              "    }\n",
              "\n",
              "    .dataframe thead th {\n",
              "        text-align: right;\n",
              "    }\n",
              "</style>\n",
              "<table border=\"1\" class=\"dataframe\">\n",
              "  <thead>\n",
              "    <tr style=\"text-align: right;\">\n",
              "      <th></th>\n",
              "      <th>Age</th>\n",
              "      <th>Gender</th>\n",
              "      <th>BMI</th>\n",
              "      <th>Glucose</th>\n",
              "      <th>Insulin</th>\n",
              "      <th>BloodPressure</th>\n",
              "      <th>DiabetesPedigree</th>\n",
              "      <th>ActivityLevel</th>\n",
              "      <th>Smoker</th>\n",
              "      <th>FamilyHistory</th>\n",
              "      <th>HbA1c</th>\n",
              "      <th>DiabetesType</th>\n",
              "    </tr>\n",
              "  </thead>\n",
              "  <tbody>\n",
              "    <tr>\n",
              "      <th>0</th>\n",
              "      <td>61</td>\n",
              "      <td>Male</td>\n",
              "      <td>19.2</td>\n",
              "      <td>172</td>\n",
              "      <td>51.3</td>\n",
              "      <td>100.0</td>\n",
              "      <td>0.67</td>\n",
              "      <td>High</td>\n",
              "      <td>No</td>\n",
              "      <td>No</td>\n",
              "      <td>7.8</td>\n",
              "      <td>Type 2</td>\n",
              "    </tr>\n",
              "    <tr>\n",
              "      <th>1</th>\n",
              "      <td>24</td>\n",
              "      <td>Female</td>\n",
              "      <td>32.3</td>\n",
              "      <td>80</td>\n",
              "      <td>69.0</td>\n",
              "      <td>77.0</td>\n",
              "      <td>0.26</td>\n",
              "      <td>High</td>\n",
              "      <td>Yes</td>\n",
              "      <td>Yes</td>\n",
              "      <td>6.9</td>\n",
              "      <td>Type 2</td>\n",
              "    </tr>\n",
              "    <tr>\n",
              "      <th>2</th>\n",
              "      <td>81</td>\n",
              "      <td>Male</td>\n",
              "      <td>22.9</td>\n",
              "      <td>189</td>\n",
              "      <td>94.4</td>\n",
              "      <td>74.0</td>\n",
              "      <td>0.38</td>\n",
              "      <td>High</td>\n",
              "      <td>Yes</td>\n",
              "      <td>No</td>\n",
              "      <td>6.1</td>\n",
              "      <td>Type 2</td>\n",
              "    </tr>\n",
              "    <tr>\n",
              "      <th>3</th>\n",
              "      <td>70</td>\n",
              "      <td>Female</td>\n",
              "      <td>34.9</td>\n",
              "      <td>177</td>\n",
              "      <td>73.8</td>\n",
              "      <td>110.0</td>\n",
              "      <td>0.41</td>\n",
              "      <td>High</td>\n",
              "      <td>Yes</td>\n",
              "      <td>Yes</td>\n",
              "      <td>4.0</td>\n",
              "      <td>Type 2</td>\n",
              "    </tr>\n",
              "    <tr>\n",
              "      <th>4</th>\n",
              "      <td>30</td>\n",
              "      <td>Female</td>\n",
              "      <td>38.5</td>\n",
              "      <td>146</td>\n",
              "      <td>122.4</td>\n",
              "      <td>92.0</td>\n",
              "      <td>0.95</td>\n",
              "      <td>High</td>\n",
              "      <td>No</td>\n",
              "      <td>Yes</td>\n",
              "      <td>7.2</td>\n",
              "      <td>Type 2</td>\n",
              "    </tr>\n",
              "    <tr>\n",
              "      <th>...</th>\n",
              "      <td>...</td>\n",
              "      <td>...</td>\n",
              "      <td>...</td>\n",
              "      <td>...</td>\n",
              "      <td>...</td>\n",
              "      <td>...</td>\n",
              "      <td>...</td>\n",
              "      <td>...</td>\n",
              "      <td>...</td>\n",
              "      <td>...</td>\n",
              "      <td>...</td>\n",
              "      <td>...</td>\n",
              "    </tr>\n",
              "    <tr>\n",
              "      <th>69995</th>\n",
              "      <td>86</td>\n",
              "      <td>Female</td>\n",
              "      <td>31.8</td>\n",
              "      <td>137</td>\n",
              "      <td>83.8</td>\n",
              "      <td>74.0</td>\n",
              "      <td>0.68</td>\n",
              "      <td>High</td>\n",
              "      <td>No</td>\n",
              "      <td>Yes</td>\n",
              "      <td>8.7</td>\n",
              "      <td>Type 2</td>\n",
              "    </tr>\n",
              "    <tr>\n",
              "      <th>69996</th>\n",
              "      <td>14</td>\n",
              "      <td>Female</td>\n",
              "      <td>38.1</td>\n",
              "      <td>122</td>\n",
              "      <td>0.0</td>\n",
              "      <td>114.0</td>\n",
              "      <td>0.93</td>\n",
              "      <td>High</td>\n",
              "      <td>No</td>\n",
              "      <td>Yes</td>\n",
              "      <td>5.2</td>\n",
              "      <td>Type 1</td>\n",
              "    </tr>\n",
              "    <tr>\n",
              "      <th>69997</th>\n",
              "      <td>28</td>\n",
              "      <td>Male</td>\n",
              "      <td>31.9</td>\n",
              "      <td>172</td>\n",
              "      <td>20.8</td>\n",
              "      <td>64.0</td>\n",
              "      <td>0.31</td>\n",
              "      <td>Low</td>\n",
              "      <td>No</td>\n",
              "      <td>Yes</td>\n",
              "      <td>10.7</td>\n",
              "      <td>Type 1</td>\n",
              "    </tr>\n",
              "    <tr>\n",
              "      <th>69998</th>\n",
              "      <td>67</td>\n",
              "      <td>Female</td>\n",
              "      <td>23.6</td>\n",
              "      <td>195</td>\n",
              "      <td>55.0</td>\n",
              "      <td>110.0</td>\n",
              "      <td>0.34</td>\n",
              "      <td>High</td>\n",
              "      <td>No</td>\n",
              "      <td>No</td>\n",
              "      <td>6.8</td>\n",
              "      <td>Type 2</td>\n",
              "    </tr>\n",
              "    <tr>\n",
              "      <th>69999</th>\n",
              "      <td>66</td>\n",
              "      <td>Female</td>\n",
              "      <td>32.2</td>\n",
              "      <td>158</td>\n",
              "      <td>101.2</td>\n",
              "      <td>83.0</td>\n",
              "      <td>0.48</td>\n",
              "      <td>Low</td>\n",
              "      <td>Yes</td>\n",
              "      <td>No</td>\n",
              "      <td>10.6</td>\n",
              "      <td>Type 2</td>\n",
              "    </tr>\n",
              "  </tbody>\n",
              "</table>\n",
              "<p>70000 rows × 12 columns</p>\n",
              "</div>"
            ],
            "text/plain": [
              "       Age  Gender   BMI  Glucose  Insulin  BloodPressure  DiabetesPedigree  \\\n",
              "0       61    Male  19.2      172     51.3          100.0              0.67   \n",
              "1       24  Female  32.3       80     69.0           77.0              0.26   \n",
              "2       81    Male  22.9      189     94.4           74.0              0.38   \n",
              "3       70  Female  34.9      177     73.8          110.0              0.41   \n",
              "4       30  Female  38.5      146    122.4           92.0              0.95   \n",
              "...    ...     ...   ...      ...      ...            ...               ...   \n",
              "69995   86  Female  31.8      137     83.8           74.0              0.68   \n",
              "69996   14  Female  38.1      122      0.0          114.0              0.93   \n",
              "69997   28    Male  31.9      172     20.8           64.0              0.31   \n",
              "69998   67  Female  23.6      195     55.0          110.0              0.34   \n",
              "69999   66  Female  32.2      158    101.2           83.0              0.48   \n",
              "\n",
              "      ActivityLevel Smoker FamilyHistory  HbA1c DiabetesType  \n",
              "0              High     No            No    7.8       Type 2  \n",
              "1              High    Yes           Yes    6.9       Type 2  \n",
              "2              High    Yes            No    6.1       Type 2  \n",
              "3              High    Yes           Yes    4.0       Type 2  \n",
              "4              High     No           Yes    7.2       Type 2  \n",
              "...             ...    ...           ...    ...          ...  \n",
              "69995          High     No           Yes    8.7       Type 2  \n",
              "69996          High     No           Yes    5.2       Type 1  \n",
              "69997           Low     No           Yes   10.7       Type 1  \n",
              "69998          High     No            No    6.8       Type 2  \n",
              "69999           Low    Yes            No   10.6       Type 2  \n",
              "\n",
              "[70000 rows x 12 columns]"
            ]
          },
          "execution_count": 17,
          "metadata": {},
          "output_type": "execute_result"
        }
      ],
      "source": [
        "df"
      ]
    },
    {
      "cell_type": "code",
      "execution_count": 18,
      "metadata": {
        "id": "Bv-WvcRfvFCW"
      },
      "outputs": [],
      "source": [
        "import pandas as pd\n",
        "from sklearn.preprocessing import LabelEncoder\n",
        "\n",
        "label_encoder = LabelEncoder()\n",
        "\n",
        "df['Gender'] = label_encoder.fit_transform(df['Gender'])\n",
        "df['DiabetesType'] = label_encoder.fit_transform(df['DiabetesType'])\n",
        "\n",
        "df = pd.get_dummies(df, columns=['ActivityLevel', 'Smoker', 'FamilyHistory'], drop_first=True)\n",
        "\n"
      ]
    },
    {
      "cell_type": "code",
      "execution_count": 19,
      "metadata": {
        "colab": {
          "base_uri": "https://localhost:8080/"
        },
        "id": "LK2Z7M0J5fel",
        "outputId": "5fc85c43-5094-480e-b061-6685758c9df8"
      },
      "outputs": [
        {
          "data": {
            "text/plain": [
              "['label_encoder.pkl']"
            ]
          },
          "execution_count": 19,
          "metadata": {},
          "output_type": "execute_result"
        }
      ],
      "source": [
        "import joblib\n",
        "\n",
        "joblib.dump(label_encoder, 'label_encoder.pkl')\n"
      ]
    },
    {
      "cell_type": "code",
      "execution_count": 20,
      "metadata": {
        "colab": {
          "base_uri": "https://localhost:8080/",
          "height": 443
        },
        "id": "yfxvhvAz3Qhw",
        "outputId": "1a0cb69b-034f-46b4-ea84-de91093e1107"
      },
      "outputs": [
        {
          "data": {
            "text/html": [
              "<div>\n",
              "<style scoped>\n",
              "    .dataframe tbody tr th:only-of-type {\n",
              "        vertical-align: middle;\n",
              "    }\n",
              "\n",
              "    .dataframe tbody tr th {\n",
              "        vertical-align: top;\n",
              "    }\n",
              "\n",
              "    .dataframe thead th {\n",
              "        text-align: right;\n",
              "    }\n",
              "</style>\n",
              "<table border=\"1\" class=\"dataframe\">\n",
              "  <thead>\n",
              "    <tr style=\"text-align: right;\">\n",
              "      <th></th>\n",
              "      <th>Age</th>\n",
              "      <th>Gender</th>\n",
              "      <th>BMI</th>\n",
              "      <th>Glucose</th>\n",
              "      <th>Insulin</th>\n",
              "      <th>BloodPressure</th>\n",
              "      <th>DiabetesPedigree</th>\n",
              "      <th>HbA1c</th>\n",
              "      <th>DiabetesType</th>\n",
              "      <th>ActivityLevel_Low</th>\n",
              "      <th>ActivityLevel_Medium</th>\n",
              "      <th>Smoker_Yes</th>\n",
              "      <th>FamilyHistory_Yes</th>\n",
              "    </tr>\n",
              "  </thead>\n",
              "  <tbody>\n",
              "    <tr>\n",
              "      <th>0</th>\n",
              "      <td>61</td>\n",
              "      <td>1</td>\n",
              "      <td>19.2</td>\n",
              "      <td>172</td>\n",
              "      <td>51.3</td>\n",
              "      <td>100.0</td>\n",
              "      <td>0.67</td>\n",
              "      <td>7.8</td>\n",
              "      <td>2</td>\n",
              "      <td>0</td>\n",
              "      <td>0</td>\n",
              "      <td>0</td>\n",
              "      <td>0</td>\n",
              "    </tr>\n",
              "    <tr>\n",
              "      <th>1</th>\n",
              "      <td>24</td>\n",
              "      <td>0</td>\n",
              "      <td>32.3</td>\n",
              "      <td>80</td>\n",
              "      <td>69.0</td>\n",
              "      <td>77.0</td>\n",
              "      <td>0.26</td>\n",
              "      <td>6.9</td>\n",
              "      <td>2</td>\n",
              "      <td>0</td>\n",
              "      <td>0</td>\n",
              "      <td>1</td>\n",
              "      <td>1</td>\n",
              "    </tr>\n",
              "    <tr>\n",
              "      <th>2</th>\n",
              "      <td>81</td>\n",
              "      <td>1</td>\n",
              "      <td>22.9</td>\n",
              "      <td>189</td>\n",
              "      <td>94.4</td>\n",
              "      <td>74.0</td>\n",
              "      <td>0.38</td>\n",
              "      <td>6.1</td>\n",
              "      <td>2</td>\n",
              "      <td>0</td>\n",
              "      <td>0</td>\n",
              "      <td>1</td>\n",
              "      <td>0</td>\n",
              "    </tr>\n",
              "    <tr>\n",
              "      <th>3</th>\n",
              "      <td>70</td>\n",
              "      <td>0</td>\n",
              "      <td>34.9</td>\n",
              "      <td>177</td>\n",
              "      <td>73.8</td>\n",
              "      <td>110.0</td>\n",
              "      <td>0.41</td>\n",
              "      <td>4.0</td>\n",
              "      <td>2</td>\n",
              "      <td>0</td>\n",
              "      <td>0</td>\n",
              "      <td>1</td>\n",
              "      <td>1</td>\n",
              "    </tr>\n",
              "    <tr>\n",
              "      <th>4</th>\n",
              "      <td>30</td>\n",
              "      <td>0</td>\n",
              "      <td>38.5</td>\n",
              "      <td>146</td>\n",
              "      <td>122.4</td>\n",
              "      <td>92.0</td>\n",
              "      <td>0.95</td>\n",
              "      <td>7.2</td>\n",
              "      <td>2</td>\n",
              "      <td>0</td>\n",
              "      <td>0</td>\n",
              "      <td>0</td>\n",
              "      <td>1</td>\n",
              "    </tr>\n",
              "    <tr>\n",
              "      <th>...</th>\n",
              "      <td>...</td>\n",
              "      <td>...</td>\n",
              "      <td>...</td>\n",
              "      <td>...</td>\n",
              "      <td>...</td>\n",
              "      <td>...</td>\n",
              "      <td>...</td>\n",
              "      <td>...</td>\n",
              "      <td>...</td>\n",
              "      <td>...</td>\n",
              "      <td>...</td>\n",
              "      <td>...</td>\n",
              "      <td>...</td>\n",
              "    </tr>\n",
              "    <tr>\n",
              "      <th>69995</th>\n",
              "      <td>86</td>\n",
              "      <td>0</td>\n",
              "      <td>31.8</td>\n",
              "      <td>137</td>\n",
              "      <td>83.8</td>\n",
              "      <td>74.0</td>\n",
              "      <td>0.68</td>\n",
              "      <td>8.7</td>\n",
              "      <td>2</td>\n",
              "      <td>0</td>\n",
              "      <td>0</td>\n",
              "      <td>0</td>\n",
              "      <td>1</td>\n",
              "    </tr>\n",
              "    <tr>\n",
              "      <th>69996</th>\n",
              "      <td>14</td>\n",
              "      <td>0</td>\n",
              "      <td>38.1</td>\n",
              "      <td>122</td>\n",
              "      <td>0.0</td>\n",
              "      <td>114.0</td>\n",
              "      <td>0.93</td>\n",
              "      <td>5.2</td>\n",
              "      <td>1</td>\n",
              "      <td>0</td>\n",
              "      <td>0</td>\n",
              "      <td>0</td>\n",
              "      <td>1</td>\n",
              "    </tr>\n",
              "    <tr>\n",
              "      <th>69997</th>\n",
              "      <td>28</td>\n",
              "      <td>1</td>\n",
              "      <td>31.9</td>\n",
              "      <td>172</td>\n",
              "      <td>20.8</td>\n",
              "      <td>64.0</td>\n",
              "      <td>0.31</td>\n",
              "      <td>10.7</td>\n",
              "      <td>1</td>\n",
              "      <td>1</td>\n",
              "      <td>0</td>\n",
              "      <td>0</td>\n",
              "      <td>1</td>\n",
              "    </tr>\n",
              "    <tr>\n",
              "      <th>69998</th>\n",
              "      <td>67</td>\n",
              "      <td>0</td>\n",
              "      <td>23.6</td>\n",
              "      <td>195</td>\n",
              "      <td>55.0</td>\n",
              "      <td>110.0</td>\n",
              "      <td>0.34</td>\n",
              "      <td>6.8</td>\n",
              "      <td>2</td>\n",
              "      <td>0</td>\n",
              "      <td>0</td>\n",
              "      <td>0</td>\n",
              "      <td>0</td>\n",
              "    </tr>\n",
              "    <tr>\n",
              "      <th>69999</th>\n",
              "      <td>66</td>\n",
              "      <td>0</td>\n",
              "      <td>32.2</td>\n",
              "      <td>158</td>\n",
              "      <td>101.2</td>\n",
              "      <td>83.0</td>\n",
              "      <td>0.48</td>\n",
              "      <td>10.6</td>\n",
              "      <td>2</td>\n",
              "      <td>1</td>\n",
              "      <td>0</td>\n",
              "      <td>1</td>\n",
              "      <td>0</td>\n",
              "    </tr>\n",
              "  </tbody>\n",
              "</table>\n",
              "<p>70000 rows × 13 columns</p>\n",
              "</div>"
            ],
            "text/plain": [
              "       Age  Gender   BMI  Glucose  Insulin  BloodPressure  DiabetesPedigree  \\\n",
              "0       61       1  19.2      172     51.3          100.0              0.67   \n",
              "1       24       0  32.3       80     69.0           77.0              0.26   \n",
              "2       81       1  22.9      189     94.4           74.0              0.38   \n",
              "3       70       0  34.9      177     73.8          110.0              0.41   \n",
              "4       30       0  38.5      146    122.4           92.0              0.95   \n",
              "...    ...     ...   ...      ...      ...            ...               ...   \n",
              "69995   86       0  31.8      137     83.8           74.0              0.68   \n",
              "69996   14       0  38.1      122      0.0          114.0              0.93   \n",
              "69997   28       1  31.9      172     20.8           64.0              0.31   \n",
              "69998   67       0  23.6      195     55.0          110.0              0.34   \n",
              "69999   66       0  32.2      158    101.2           83.0              0.48   \n",
              "\n",
              "       HbA1c  DiabetesType  ActivityLevel_Low  ActivityLevel_Medium  \\\n",
              "0        7.8             2                  0                     0   \n",
              "1        6.9             2                  0                     0   \n",
              "2        6.1             2                  0                     0   \n",
              "3        4.0             2                  0                     0   \n",
              "4        7.2             2                  0                     0   \n",
              "...      ...           ...                ...                   ...   \n",
              "69995    8.7             2                  0                     0   \n",
              "69996    5.2             1                  0                     0   \n",
              "69997   10.7             1                  1                     0   \n",
              "69998    6.8             2                  0                     0   \n",
              "69999   10.6             2                  1                     0   \n",
              "\n",
              "       Smoker_Yes  FamilyHistory_Yes  \n",
              "0               0                  0  \n",
              "1               1                  1  \n",
              "2               1                  0  \n",
              "3               1                  1  \n",
              "4               0                  1  \n",
              "...           ...                ...  \n",
              "69995           0                  1  \n",
              "69996           0                  1  \n",
              "69997           0                  1  \n",
              "69998           0                  0  \n",
              "69999           1                  0  \n",
              "\n",
              "[70000 rows x 13 columns]"
            ]
          },
          "execution_count": 20,
          "metadata": {},
          "output_type": "execute_result"
        }
      ],
      "source": [
        "df"
      ]
    },
    {
      "cell_type": "code",
      "execution_count": 23,
      "metadata": {
        "colab": {
          "base_uri": "https://localhost:8080/"
        },
        "id": "SWsC7RcYud-V",
        "outputId": "1d1adb56-a639-4184-9e00-b83d7e3186e4"
      },
      "outputs": [
        {
          "name": "stdout",
          "output_type": "stream",
          "text": [
            "Before resampling: (70000, 12) After resampling: (201368, 12)\n"
          ]
        }
      ],
      "source": [
        "from sklearn.utils import resample\n",
        "\n",
        "# Separate majority and minority classes\n",
        "X = df.drop('DiabetesType', axis=1)\n",
        "y = df['DiabetesType']\n",
        "\n",
        "# Get unique classes and their counts\n",
        "class_counts = y.value_counts()\n",
        "majority_class = class_counts.index[0]\n",
        "n_samples = class_counts[majority_class]\n",
        "\n",
        "# Resample each minority class to match majority class\n",
        "X_resampled = X.copy()\n",
        "y_resampled = y.copy()\n",
        "\n",
        "for class_label in class_counts.index[1:]:\n",
        "    # Combine features and labels for the current class\n",
        "    class_data = pd.concat([X[y == class_label], y[y == class_label]], axis=1)\n",
        "    \n",
        "    # Resample to match majority class size\n",
        "    resampled = resample(class_data, \n",
        "                        replace=True,\n",
        "                        n_samples=n_samples,\n",
        "                        random_state=42)\n",
        "    \n",
        "    # Append to resampled data\n",
        "    X_resampled = pd.concat([X_resampled, resampled.drop('DiabetesType', axis=1)])\n",
        "    y_resampled = pd.concat([y_resampled, resampled['DiabetesType']])\n",
        "\n",
        "print(\"Before resampling:\", X.shape, \"After resampling:\", X_resampled.shape)"
      ]
    },
    {
      "cell_type": "code",
      "execution_count": 24,
      "metadata": {},
      "outputs": [
        {
          "name": "stdout",
          "output_type": "stream",
          "text": [
            "Before resampling: (70000, 12) After resampling: (201368, 12)\n"
          ]
        }
      ],
      "source": [
        "from sklearn.utils import resample\n",
        "\n",
        "# Separate majority and minority classes\n",
        "X = df.drop('DiabetesType', axis=1)\n",
        "y = df['DiabetesType']\n",
        "\n",
        "# Get unique classes and their counts\n",
        "class_counts = y.value_counts()\n",
        "majority_class = class_counts.index[0]\n",
        "n_samples = class_counts[majority_class]\n",
        "\n",
        "# Resample each minority class to match majority class\n",
        "X_resampled = X.copy()\n",
        "y_resampled = y.copy()\n",
        "\n",
        "for class_label in class_counts.index[1:]:\n",
        "    # Combine features and labels for the current class\n",
        "    class_data = pd.concat([X[y == class_label], y[y == class_label]], axis=1)\n",
        "    \n",
        "    # Resample to match majority class size\n",
        "    resampled = resample(class_data, \n",
        "                        replace=True,\n",
        "                        n_samples=n_samples,\n",
        "                        random_state=42)\n",
        "    \n",
        "    # Append to resampled data\n",
        "    X_resampled = pd.concat([X_resampled, resampled.drop('DiabetesType', axis=1)])\n",
        "    y_resampled = pd.concat([y_resampled, resampled['DiabetesType']])\n",
        "\n",
        "print(\"Before resampling:\", X.shape, \"After resampling:\", X_resampled.shape)"
      ]
    },
    {
      "cell_type": "code",
      "execution_count": 25,
      "metadata": {
        "colab": {
          "base_uri": "https://localhost:8080/"
        },
        "id": "t3aeIYgSux1P",
        "outputId": "ca2bc1af-3158-4a59-a5a2-6cfe585ae7ce"
      },
      "outputs": [
        {
          "name": "stdout",
          "output_type": "stream",
          "text": [
            "Training data: (56000, 12) Test data: (14000, 12)\n"
          ]
        }
      ],
      "source": [
        "from sklearn.model_selection import train_test_split\n",
        "\n",
        "X = df.drop('DiabetesType', axis=1)\n",
        "y = df['DiabetesType']\n",
        "\n",
        "X_train, X_test, y_train, y_test = train_test_split(X, y, test_size=0.2, random_state=42)\n",
        "\n",
        "print(\"Training data:\", X_train.shape, \"Test data:\", X_test.shape)\n"
      ]
    },
    {
      "cell_type": "code",
      "execution_count": 26,
      "metadata": {},
      "outputs": [
        {
          "ename": "ModuleNotFoundError",
          "evalue": "No module named 'imblearn'",
          "output_type": "error",
          "traceback": [
            "\u001b[1;31m---------------------------------------------------------------------------\u001b[0m",
            "\u001b[1;31mModuleNotFoundError\u001b[0m                       Traceback (most recent call last)",
            "Input \u001b[1;32mIn [26]\u001b[0m, in \u001b[0;36m<cell line: 1>\u001b[1;34m()\u001b[0m\n\u001b[1;32m----> 1\u001b[0m \u001b[38;5;28;01mfrom\u001b[39;00m \u001b[38;5;21;01mimblearn\u001b[39;00m\u001b[38;5;21;01m.\u001b[39;00m\u001b[38;5;21;01mover_sampling\u001b[39;00m \u001b[38;5;28;01mimport\u001b[39;00m SMOTE\n",
            "\u001b[1;31mModuleNotFoundError\u001b[0m: No module named 'imblearn'"
          ]
        }
      ],
      "source": [
        "from imblearn.over_sampling import SMOTE"
      ]
    },
    {
      "cell_type": "code",
      "execution_count": 27,
      "metadata": {
        "colab": {
          "base_uri": "https://localhost:8080/"
        },
        "id": "3SlYIrsMvcNf",
        "outputId": "c5c37171-77a5-4c07-ee9e-46476b924068"
      },
      "outputs": [
        {
          "name": "stdout",
          "output_type": "stream",
          "text": [
            "Random Forest Accuracy: 0.9728\n",
            "Gradient Boosting Accuracy: 0.9729\n",
            "SVM Accuracy: 0.9556\n",
            "Logistic Regression Accuracy: 0.9526\n",
            "\n",
            "Best Model: GradientBoostingClassifier(random_state=42) with Accuracy: 0.9729\n"
          ]
        },
        {
          "name": "stderr",
          "output_type": "stream",
          "text": [
            "d:\\progrems\\lib\\site-packages\\sklearn\\linear_model\\_logistic.py:814: ConvergenceWarning: lbfgs failed to converge (status=1):\n",
            "STOP: TOTAL NO. of ITERATIONS REACHED LIMIT.\n",
            "\n",
            "Increase the number of iterations (max_iter) or scale the data as shown in:\n",
            "    https://scikit-learn.org/stable/modules/preprocessing.html\n",
            "Please also refer to the documentation for alternative solver options:\n",
            "    https://scikit-learn.org/stable/modules/linear_model.html#logistic-regression\n",
            "  n_iter_i = _check_optimize_result(\n"
          ]
        }
      ],
      "source": [
        "from sklearn.ensemble import RandomForestClassifier, GradientBoostingClassifier\n",
        "from sklearn.svm import SVC\n",
        "from sklearn.linear_model import LogisticRegression\n",
        "from sklearn.metrics import accuracy_score\n",
        "\n",
        "models = {\n",
        "    'Random Forest': RandomForestClassifier(n_estimators=100, random_state=42),\n",
        "    'Gradient Boosting': GradientBoostingClassifier(n_estimators=100, random_state=42),\n",
        "    'SVM': SVC(kernel='linear', random_state=42),\n",
        "    'Logistic Regression': LogisticRegression(random_state=42)\n",
        "}\n",
        "\n",
        "best_accuracy = 0\n",
        "best_model = None\n",
        "\n",
        "for name, model in models.items():\n",
        "    model.fit(X_train, y_train)\n",
        "    y_pred = model.predict(X_test)\n",
        "    accuracy = accuracy_score(y_test, y_pred)\n",
        "\n",
        "    print(f\"{name} Accuracy: {accuracy:.4f}\")\n",
        "\n",
        "    if accuracy > best_accuracy:\n",
        "        best_accuracy = accuracy\n",
        "        best_model = model\n",
        "\n",
        "print(f\"\\nBest Model: {best_model} with Accuracy: {best_accuracy:.4f}\")\n"
      ]
    },
    {
      "cell_type": "code",
      "execution_count": 28,
      "metadata": {
        "colab": {
          "base_uri": "https://localhost:8080/"
        },
        "id": "haOmALzC12ir",
        "outputId": "e0501b56-8a38-4887-e06f-80bb2378069b"
      },
      "outputs": [
        {
          "data": {
            "text/plain": [
              "['best_model.pkl']"
            ]
          },
          "execution_count": 28,
          "metadata": {},
          "output_type": "execute_result"
        }
      ],
      "source": [
        "joblib.dump(best_model, 'best_model.pkl')"
      ]
    },
    {
      "cell_type": "code",
      "execution_count": null,
      "metadata": {
        "id": "4eNcwEuL2xyb"
      },
      "outputs": [],
      "source": []
    },
    {
      "cell_type": "code",
      "execution_count": 29,
      "metadata": {
        "colab": {
          "base_uri": "https://localhost:8080/"
        },
        "id": "CdQ7FAiXwkKA",
        "outputId": "828bf418-163d-45f0-d7ce-e2805058967b"
      },
      "outputs": [
        {
          "name": "stdout",
          "output_type": "stream",
          "text": [
            "New data after adding missing columns:    Age  Gender   BMI  Glucose  Insulin  BloodPressure  DiabetesPedigree  \\\n",
            "0   61       1  19.2      172     51.3          100.0              0.67   \n",
            "\n",
            "   HbA1c  ActivityLevel_Low  ActivityLevel_Medium  Smoker_Yes  \\\n",
            "0    7.8                  1                     0           1   \n",
            "\n",
            "   FamilyHistory_Yes  \n",
            "0                  0  \n",
            "Prediction for the new data: [2]\n"
          ]
        }
      ],
      "source": [
        "import pandas as pd\n",
        "\n",
        "new_data = [[61, 1, 19.2, 172, 51.3, 100.0, 0.67, 7.8, 1, 0, 1]]\n",
        "\n",
        "new_data_df = pd.DataFrame(new_data, columns=X_train.columns[:11])\n",
        "\n",
        "missing_cols = set(X_train.columns) - set(new_data_df.columns)\n",
        "for col in missing_cols:\n",
        "    new_data_df[col] = 0\n",
        "\n",
        "print(\"New data after adding missing columns:\", new_data_df)\n",
        "\n",
        "new_prediction = best_model.predict(new_data_df)\n",
        "print(f\"Prediction for the new data: {new_prediction}\")\n"
      ]
    },
    {
      "cell_type": "code",
      "execution_count": 30,
      "metadata": {
        "colab": {
          "base_uri": "https://localhost:8080/"
        },
        "id": "k0dI7QXv1T1m",
        "outputId": "9f00f4be-f007-432f-f004-68475dce9e31"
      },
      "outputs": [
        {
          "name": "stdout",
          "output_type": "stream",
          "text": [
            "   Age  Gender   BMI  Glucose  Insulin  BloodPressure  DiabetesPedigree  HbA1c\n",
            "0   61       0  19.2      172     51.3          100.0              0.67    7.8\n"
          ]
        }
      ],
      "source": [
        "import pandas as pd\n",
        "import joblib\n",
        "import numpy as np\n",
        "\n",
        "label_encoder = joblib.load('label_encoder.pkl')\n",
        "\n",
        "new_data = pd.DataFrame([[61, 'Male', 19.2, 172, 51.3, 100.0, 0.67, 'High', 'No', 'No', 7.8]],\n",
        "                        columns=['Age', 'Gender', 'BMI', 'Glucose', 'Insulin', 'BloodPressure', 'DiabetesPedigree',\n",
        "                                 'ActivityLevel', 'Smoker', 'FamilyHistory', 'HbA1c'])\n",
        "\n",
        "# تحقق من وجود القيم في المحول\n",
        "if 'Male' in label_encoder.classes_:\n",
        "    new_data['Gender'] = label_encoder.transform(new_data['Gender'])\n",
        "else:\n",
        "    new_data['Gender'] = label_encoder.fit_transform(new_data['Gender'])  # إعادة التدريب على البيانات الجديدة\n",
        "\n",
        "new_data = pd.get_dummies(new_data, columns=['ActivityLevel', 'Smoker', 'FamilyHistory'], drop_first=True)\n",
        "\n",
        "print(new_data)\n"
      ]
    },
    {
      "cell_type": "code",
      "execution_count": 31,
      "metadata": {
        "colab": {
          "base_uri": "https://localhost:8080/"
        },
        "id": "bFptRNO45m0w",
        "outputId": "406cd424-3c40-4359-fbb6-121c207a14c8"
      },
      "outputs": [
        {
          "ename": "ModuleNotFoundError",
          "evalue": "No module named 'imblearn'",
          "output_type": "error",
          "traceback": [
            "\u001b[1;31m---------------------------------------------------------------------------\u001b[0m",
            "\u001b[1;31mModuleNotFoundError\u001b[0m                       Traceback (most recent call last)",
            "Input \u001b[1;32mIn [31]\u001b[0m, in \u001b[0;36m<cell line: 9>\u001b[1;34m()\u001b[0m\n\u001b[0;32m      7\u001b[0m \u001b[38;5;28;01mfrom\u001b[39;00m \u001b[38;5;21;01msklearn\u001b[39;00m\u001b[38;5;21;01m.\u001b[39;00m\u001b[38;5;21;01mlinear_model\u001b[39;00m \u001b[38;5;28;01mimport\u001b[39;00m LogisticRegression\n\u001b[0;32m      8\u001b[0m \u001b[38;5;28;01mfrom\u001b[39;00m \u001b[38;5;21;01msklearn\u001b[39;00m\u001b[38;5;21;01m.\u001b[39;00m\u001b[38;5;21;01mmetrics\u001b[39;00m \u001b[38;5;28;01mimport\u001b[39;00m accuracy_score\n\u001b[1;32m----> 9\u001b[0m \u001b[38;5;28;01mfrom\u001b[39;00m \u001b[38;5;21;01mimblearn\u001b[39;00m\u001b[38;5;21;01m.\u001b[39;00m\u001b[38;5;21;01mover_sampling\u001b[39;00m \u001b[38;5;28;01mimport\u001b[39;00m SMOTE\n\u001b[0;32m     11\u001b[0m \u001b[38;5;66;03m# Load the dataset\u001b[39;00m\n\u001b[0;32m     12\u001b[0m df \u001b[38;5;241m=\u001b[39m pd\u001b[38;5;241m.\u001b[39mread_csv(\u001b[38;5;124m\"\u001b[39m\u001b[38;5;124m/content/diabetes_types_dataset.csv\u001b[39m\u001b[38;5;124m\"\u001b[39m)\n",
            "\u001b[1;31mModuleNotFoundError\u001b[0m: No module named 'imblearn'"
          ]
        }
      ],
      "source": [
        "import pandas as pd\n",
        "import joblib\n",
        "import numpy as np\n",
        "from sklearn.model_selection import train_test_split\n",
        "from sklearn.ensemble import RandomForestClassifier, GradientBoostingClassifier\n",
        "from sklearn.svm import SVC\n",
        "from sklearn.linear_model import LogisticRegression\n",
        "from sklearn.metrics import accuracy_score\n",
        "from imblearn.over_sampling import SMOTE\n",
        "\n",
        "# Load the dataset\n",
        "df = pd.read_csv(\"/content/diabetes_types_dataset.csv\")\n",
        "\n",
        "# Handle missing values\n",
        "column_null = ['BMI', 'BloodPressure', 'Insulin', 'HbA1c']\n",
        "for col in column_null:\n",
        "    df[col] = df[col].fillna(df[col].mean())\n",
        "\n",
        "df['Insulin'] = df['Insulin'].apply(lambda x: 0 if x < 0 else x)\n",
        "df['DiabetesPedigree'] = df['DiabetesPedigree'].apply(lambda x: 0 if x < 0 else x)\n",
        "\n",
        "# Label Encoding for 'Gender' and 'DiabetesType'\n",
        "label_encoder = LabelEncoder()\n",
        "df['Gender'] = label_encoder.fit_transform(df['Gender'])\n",
        "df['DiabetesType'] = label_encoder.fit_transform(df['DiabetesType'])\n",
        "\n",
        "# One-hot encoding for categorical variables\n",
        "df = pd.get_dummies(df, columns=['ActivityLevel', 'Smoker', 'FamilyHistory'], drop_first=True)\n",
        "\n",
        "# Save the label encoder for future use\n",
        "joblib.dump(label_encoder, 'label_encoder.pkl')\n",
        "\n",
        "# Apply SMOTE for balancing the dataset\n",
        "X = df.drop('DiabetesType', axis=1)\n",
        "y = df['DiabetesType']\n",
        "smote = SMOTE(sampling_strategy='auto', random_state=42)\n",
        "X_resampled, y_resampled = smote.fit_resample(X, y)\n",
        "\n",
        "# Train-Test Split\n",
        "X_train, X_test, y_train, y_test = train_test_split(X_resampled, y_resampled, test_size=0.2, random_state=42)\n",
        "\n",
        "# Train models and evaluate\n",
        "models = {\n",
        "    'Random Forest': RandomForestClassifier(n_estimators=100, random_state=42),\n",
        "    'Gradient Boosting': GradientBoostingClassifier(n_estimators=100, random_state=42),\n",
        "    'SVM': SVC(kernel='linear', random_state=42),\n",
        "    'Logistic Regression': LogisticRegression(random_state=42)\n",
        "}\n",
        "\n",
        "best_accuracy = 0\n",
        "best_model = None\n",
        "\n",
        "for name, model in models.items():\n",
        "    model.fit(X_train, y_train)\n",
        "    y_pred = model.predict(X_test)\n",
        "    accuracy = accuracy_score(y_test, y_pred)\n",
        "    print(f\"{name} Accuracy: {accuracy:.4f}\")\n",
        "\n",
        "    if accuracy > best_accuracy:\n",
        "        best_accuracy = accuracy\n",
        "        best_model = model\n",
        "\n",
        "print(f\"\\nBest Model: {best_model} with Accuracy: {best_accuracy:.4f}\")\n",
        "\n",
        "# Save the best model\n",
        "joblib.dump(best_model, 'best_model.pkl')\n",
        "\n",
        "# Load the label encoder and best model\n",
        "label_encoder = joblib.load('label_encoder.pkl')\n",
        "model = joblib.load('best_model.pkl')\n",
        "\n",
        "# New data for prediction\n",
        "new_data = pd.DataFrame([[61, 'Male', 19.2, 172, 51.3, 100.0, 0.67, 'High', 'No', 'No', 7.8]],\n",
        "                        columns=['Age', 'Gender', 'BMI', 'Glucose', 'Insulin', 'BloodPressure', 'DiabetesPedigree',\n",
        "                                 'ActivityLevel', 'Smoker', 'FamilyHistory', 'HbA1c'])\n",
        "\n",
        "# Transform 'Gender' using LabelEncoder\n",
        "if 'Male' in label_encoder.classes_:\n",
        "    new_data['Gender'] = label_encoder.transform(new_data['Gender'])\n",
        "else:\n",
        "    new_data['Gender'] = label_encoder.fit_transform(new_data['Gender'])\n",
        "\n",
        "# One-hot encoding for categorical columns\n",
        "new_data = pd.get_dummies(new_data, columns=['ActivityLevel', 'Smoker', 'FamilyHistory'], drop_first=True)\n",
        "\n",
        "# Ensure new data has the same columns as the training data\n",
        "missing_cols = set(X_train.columns) - set(new_data.columns)\n",
        "for col in missing_cols:\n",
        "    new_data[col] = 0\n",
        "\n",
        "# Make prediction using the best model\n",
        "prediction = model.predict(new_data)\n",
        "\n",
        "# Print prediction result\n",
        "prediction_result = label_encoder.inverse_transform(prediction)  # Convert prediction back to label\n",
        "print(f\"Prediction for the new data: {prediction_result[0]}\")\n"
      ]
    },
    {
      "cell_type": "code",
      "execution_count": null,
      "metadata": {
        "id": "Pex3B0a66hEA"
      },
      "outputs": [],
      "source": []
    },
    {
      "cell_type": "code",
      "execution_count": null,
      "metadata": {},
      "outputs": [],
      "source": []
    },
    {
      "cell_type": "code",
      "execution_count": null,
      "metadata": {},
      "outputs": [],
      "source": []
    }
  ],
  "metadata": {
    "accelerator": "GPU",
    "colab": {
      "gpuType": "T4",
      "provenance": []
    },
    "kernelspec": {
      "display_name": "base",
      "language": "python",
      "name": "python3"
    },
    "language_info": {
      "codemirror_mode": {
        "name": "ipython",
        "version": 3
      },
      "file_extension": ".py",
      "mimetype": "text/x-python",
      "name": "python",
      "nbconvert_exporter": "python",
      "pygments_lexer": "ipython3",
      "version": "3.9.12"
    }
  },
  "nbformat": 4,
  "nbformat_minor": 0
}
